{
 "cells": [
  {
   "cell_type": "markdown",
   "metadata": {},
   "source": [
    "# K-means с нуля\n",
    "Как работает этот алгоритм? \n",
    "1) Выбираются рандомные центры кластеров \n",
    "<br>\n",
    "2) Считается расстояние от точек до каждого из кластеров\n",
    "<br>\n",
    "3) Ближайшие точки к центру кластера обьявляются принадлежащими ему\n",
    "<br>\n",
    "4) Для каждого кластера рассчитывается новый центр: берется среднее значение точек, входящих в кластер.\n",
    "<br>\n",
    "5) Процедура повторяется с пункта 2 до тех пор, пока точки перестанут переходить из одного кластера в другой\n",
    "\n",
    " Для начала распишем каждый пункт отдельно, далее объеденим всё в один метод"
   ]
  },
  {
   "cell_type": "code",
   "execution_count": 1,
   "metadata": {},
   "outputs": [
    {
     "data": {
      "text/html": [
       "<style>.container { width:100% !important; }</style>"
      ],
      "text/plain": [
       "<IPython.core.display.HTML object>"
      ]
     },
     "metadata": {},
     "output_type": "display_data"
    }
   ],
   "source": [
    "import numpy as np\n",
    "import plotly as plt\n",
    "import matplotlib.pyplot as plot\n",
    "import pandas as pd\n",
    "from scipy.spatial.distance import cdist\n",
    "from sklearn.datasets import make_blobs\n",
    "\n",
    "from IPython.core.display import display, HTML\n",
    "display(HTML(\"<style>.container { width:100% !important; }</style>\"))"
   ]
  },
  {
   "cell_type": "code",
   "execution_count": 2,
   "metadata": {},
   "outputs": [
    {
     "data": {
      "image/png": "[encoded data removed]",
      "text/plain": [
       "<Figure size 800x400 with 1 Axes>"
      ]
     },
     "metadata": {
      "needs_background": "light"
     },
     "output_type": "display_data"
    }
   ],
   "source": [
    "# Сгенерируем тестовые данные\n",
    "\n",
    "test_data, true_clusters = make_blobs(n_samples = 100,\n",
    "                  n_features = 2, \n",
    "                  centers = 2,\n",
    "                  cluster_std = 0.9,\n",
    "                  random_state=43,\n",
    "                  shuffle = True)\n",
    "\n",
    "plot.figure(figsize=(10, 5), dpi=80)\n",
    "plot.scatter(test_data[:,0], test_data[:,1])\n",
    "plot.show()"
   ]
  },
  {
   "cell_type": "code",
   "execution_count": 3,
   "metadata": {},
   "outputs": [
    {
     "data": {
      "text/plain": [
       "array([1, 0, 0, 0, 0, 1, 1, 0, 1, 1, 1, 1, 0, 0, 0, 0, 1, 0, 1, 1, 1, 0,\n",
       "       0, 1, 0, 0, 1, 1, 1, 1, 0, 1, 0, 1, 1, 1, 1, 0, 0, 1, 1, 0, 0, 0,\n",
       "       1, 1, 0, 1, 0, 1, 1, 0, 1, 1, 0, 1, 0, 1, 0, 0, 0, 0, 1, 0, 1, 0,\n",
       "       0, 1, 0, 1, 1, 0, 0, 0, 1, 1, 0, 0, 1, 0, 1, 1, 1, 1, 1, 0, 0, 0,\n",
       "       1, 0, 1, 1, 0, 0, 0, 1, 1, 0, 0, 0])"
      ]
     },
     "execution_count": 3,
     "metadata": {},
     "output_type": "execute_result"
    }
   ],
   "source": [
    "# А вот истинные кластера, на которых проверим наш алгоритм\n",
    "true_clusters"
   ]
  },
  {
   "cell_type": "code",
   "execution_count": 4,
   "metadata": {},
   "outputs": [
    {
     "data": {
      "text/html": [
       "<div>\n",
       "<style scoped>\n",
       "    .dataframe tbody tr th:only-of-type {\n",
       "        vertical-align: middle;\n",
       "    }\n",
       "\n",
       "    .dataframe tbody tr th {\n",
       "        vertical-align: top;\n",
       "    }\n",
       "\n",
       "    .dataframe thead th {\n",
       "        text-align: right;\n",
       "    }\n",
       "</style>\n",
       "<table border=\"1\" class=\"dataframe\">\n",
       "  <thead>\n",
       "    <tr style=\"text-align: right;\">\n",
       "      <th></th>\n",
       "      <th>X</th>\n",
       "      <th>Y</th>\n",
       "    </tr>\n",
       "  </thead>\n",
       "  <tbody>\n",
       "    <tr>\n",
       "      <th>0</th>\n",
       "      <td>-6.420568</td>\n",
       "      <td>-5.149466</td>\n",
       "    </tr>\n",
       "    <tr>\n",
       "      <th>1</th>\n",
       "      <td>-6.599814</td>\n",
       "      <td>3.094820</td>\n",
       "    </tr>\n",
       "    <tr>\n",
       "      <th>2</th>\n",
       "      <td>-6.334111</td>\n",
       "      <td>0.710702</td>\n",
       "    </tr>\n",
       "    <tr>\n",
       "      <th>3</th>\n",
       "      <td>-5.691585</td>\n",
       "      <td>1.822127</td>\n",
       "    </tr>\n",
       "    <tr>\n",
       "      <th>4</th>\n",
       "      <td>-6.949306</td>\n",
       "      <td>3.058038</td>\n",
       "    </tr>\n",
       "    <tr>\n",
       "      <th>...</th>\n",
       "      <td>...</td>\n",
       "      <td>...</td>\n",
       "    </tr>\n",
       "    <tr>\n",
       "      <th>95</th>\n",
       "      <td>-8.257626</td>\n",
       "      <td>-3.961355</td>\n",
       "    </tr>\n",
       "    <tr>\n",
       "      <th>96</th>\n",
       "      <td>-7.280080</td>\n",
       "      <td>-5.529833</td>\n",
       "    </tr>\n",
       "    <tr>\n",
       "      <th>97</th>\n",
       "      <td>-6.095135</td>\n",
       "      <td>1.625376</td>\n",
       "    </tr>\n",
       "    <tr>\n",
       "      <th>98</th>\n",
       "      <td>-7.958505</td>\n",
       "      <td>1.220389</td>\n",
       "    </tr>\n",
       "    <tr>\n",
       "      <th>99</th>\n",
       "      <td>-7.720485</td>\n",
       "      <td>1.316009</td>\n",
       "    </tr>\n",
       "  </tbody>\n",
       "</table>\n",
       "<p>100 rows × 2 columns</p>\n",
       "</div>"
      ],
      "text/plain": [
       "           X         Y\n",
       "0  -6.420568 -5.149466\n",
       "1  -6.599814  3.094820\n",
       "2  -6.334111  0.710702\n",
       "3  -5.691585  1.822127\n",
       "4  -6.949306  3.058038\n",
       "..       ...       ...\n",
       "95 -8.257626 -3.961355\n",
       "96 -7.280080 -5.529833\n",
       "97 -6.095135  1.625376\n",
       "98 -7.958505  1.220389\n",
       "99 -7.720485  1.316009\n",
       "\n",
       "[100 rows x 2 columns]"
      ]
     },
     "execution_count": 4,
     "metadata": {},
     "output_type": "execute_result"
    }
   ],
   "source": [
    "main_df = pd.DataFrame(test_data, columns = ['X', 'Y'])\n",
    "main_df"
   ]
  },
  {
   "cell_type": "markdown",
   "metadata": {},
   "source": [
    "# Пункт 1\n",
    "Генерация рандомных центров кластеров. Для нашего примера реализуем 2 кластера"
   ]
  },
  {
   "cell_type": "code",
   "execution_count": 5,
   "metadata": {},
   "outputs": [
    {
     "data": {
      "text/html": [
       "<div>\n",
       "<style scoped>\n",
       "    .dataframe tbody tr th:only-of-type {\n",
       "        vertical-align: middle;\n",
       "    }\n",
       "\n",
       "    .dataframe tbody tr th {\n",
       "        vertical-align: top;\n",
       "    }\n",
       "\n",
       "    .dataframe thead th {\n",
       "        text-align: right;\n",
       "    }\n",
       "</style>\n",
       "<table border=\"1\" class=\"dataframe\">\n",
       "  <thead>\n",
       "    <tr style=\"text-align: right;\">\n",
       "      <th></th>\n",
       "      <th>X</th>\n",
       "      <th>Y</th>\n",
       "    </tr>\n",
       "  </thead>\n",
       "  <tbody>\n",
       "    <tr>\n",
       "      <th>0</th>\n",
       "      <td>-8.360228</td>\n",
       "      <td>-6.423031</td>\n",
       "    </tr>\n",
       "    <tr>\n",
       "      <th>1</th>\n",
       "      <td>-5.518232</td>\n",
       "      <td>-6.116511</td>\n",
       "    </tr>\n",
       "  </tbody>\n",
       "</table>\n",
       "</div>"
      ],
      "text/plain": [
       "          X         Y\n",
       "0 -8.360228 -6.423031\n",
       "1 -5.518232 -6.116511"
      ]
     },
     "execution_count": 5,
     "metadata": {},
     "output_type": "execute_result"
    }
   ],
   "source": [
    "# В качестве центров кластеров возьмем случайные 2 точки из наших данных. replace=False чтобы не взять одинаковые\n",
    "np.random.seed(42)\n",
    "centers = test_data[np.random.choice(test_data.shape[0], 2, replace=False)]\n",
    "\n",
    "centers = pd.DataFrame(centers, columns = ['X', 'Y'])\n",
    "centers"
   ]
  },
  {
   "cell_type": "code",
   "execution_count": 6,
   "metadata": {},
   "outputs": [
    {
     "data": {
      "text/plain": [
       "<AxesSubplot:xlabel='X', ylabel='Y'>"
      ]
     },
     "execution_count": 6,
     "metadata": {},
     "output_type": "execute_result"
    },
    {
     "data": {
      "image/png": "[encoded data removed]",
      "text/plain": [
       "<Figure size 720x360 with 1 Axes>"
      ]
     },
     "metadata": {
      "needs_background": "light"
     },
     "output_type": "display_data"
    }
   ],
   "source": [
    "# Красные точки - центры кластеров\n",
    "ax = main_df.plot.scatter(x='X', y='Y')\n",
    "centers.plot.scatter(ax=ax, x='X', y='Y', color='red', figsize=(10, 5))"
   ]
  },
  {
   "cell_type": "markdown",
   "metadata": {},
   "source": [
    " # Пункт 2\n",
    " Расстояние между двумя точками считается по теореме пифагора - по сути, нам нужно найти гипотенузу\n"
   ]
  },
  {
   "cell_type": "code",
   "execution_count": 7,
   "metadata": {},
   "outputs": [],
   "source": [
    "main_df['Cluster'] = None\n",
    "main_df['Distance_first'] = None\n",
    "main_df['Distance_second'] = None\n",
    "\n",
    "for index, row in main_df.iterrows():\n",
    "#     Для наглядности посчитаем каждый катет отдельно. В дальнейшем мы заменим это на другой удобный метод\n",
    "    first_x_catet = centers.iloc[0].X - row['X']\n",
    "    first_y_catet = centers.iloc[0].Y - row['Y']\n",
    "    first_distance = (first_x_catet**2 + first_y_catet**2) **0.5\n",
    "    main_df.at[index,'Distance_first'] = first_distance\n",
    "    \n",
    "    second_x_catet = centers.iloc[1].X - row['X']\n",
    "    second_y_catet = centers.iloc[1].Y - row['Y']\n",
    "    second_distance = (second_x_catet**2 + second_y_catet**2) **0.5\n",
    "    \n",
    "    main_df.at[index,'Distance_second'] = second_distance\n",
    "    \n",
    "#     Пункт 3. Какая точка ближе к центру - та в этот кластер и входит\n",
    "    if first_distance < second_distance:\n",
    "        main_df.at[index,'Cluster'] = 0\n",
    "    else:\n",
    "        main_df.at[index,'Cluster'] = 1"
   ]
  },
  {
   "cell_type": "code",
   "execution_count": 8,
   "metadata": {},
   "outputs": [
    {
     "data": {
      "text/plain": [
       "<AxesSubplot:xlabel='X', ylabel='Y'>"
      ]
     },
     "execution_count": 8,
     "metadata": {},
     "output_type": "execute_result"
    },
    {
     "data": {
      "image/png": "[encoded data removed]",
      "text/plain": [
       "<Figure size 720x360 with 1 Axes>"
      ]
     },
     "metadata": {
      "needs_background": "light"
     },
     "output_type": "display_data"
    }
   ],
   "source": [
    "# Давайте посмотрим на графике, что получилось после одной итерации рассчёта расстояний \n",
    "df1 = main_df[main_df['Cluster'] ==0]\n",
    "df2 = main_df[main_df['Cluster'] ==1]\n",
    "\n",
    "ax = df1.plot.scatter(x='X', y='Y', color='purple')\n",
    "df2.plot.scatter(ax=ax, x='X', y='Y', color='green', figsize=(10, 5))"
   ]
  },
  {
   "cell_type": "markdown",
   "metadata": {},
   "source": [
    "# Пункт 4. Перезаписываем значения центров новых кластеров"
   ]
  },
  {
   "cell_type": "code",
   "execution_count": 9,
   "metadata": {},
   "outputs": [],
   "source": [
    "centers.at[0,'X'] = main_df[main_df['Cluster'] == 0].X.mean()\n",
    "centers.at[1,'X'] = main_df[main_df['Cluster'] == 1].X.mean()\n",
    "centers.at[0,'Y'] = main_df[main_df['Cluster'] == 0].Y.mean()\n",
    "centers.at[1,'Y'] = main_df[main_df['Cluster'] == 1].Y.mean()"
   ]
  },
  {
   "cell_type": "code",
   "execution_count": 10,
   "metadata": {},
   "outputs": [
    {
     "data": {
      "text/plain": [
       "<AxesSubplot:xlabel='X', ylabel='Y'>"
      ]
     },
     "execution_count": 10,
     "metadata": {},
     "output_type": "execute_result"
    },
    {
     "data": {
      "image/png": "[encoded data removed]",
      "text/plain": [
       "<Figure size 720x360 with 1 Axes>"
      ]
     },
     "metadata": {
      "needs_background": "light"
     },
     "output_type": "display_data"
    }
   ],
   "source": [
    "ax = main_df.plot.scatter(x='X', y='Y')\n",
    "centers.plot.scatter(ax=ax, x='X', y='Y', color='red',  figsize=(10, 5))"
   ]
  },
  {
   "cell_type": "markdown",
   "metadata": {},
   "source": [
    "как видим на графике, центры переместились!"
   ]
  },
  {
   "cell_type": "markdown",
   "metadata": {},
   "source": [
    "# Пункт 5. Объеденим все перечисленные куски кода в один.  Используем numpy для более компактного кода"
   ]
  },
  {
   "cell_type": "code",
   "execution_count": 11,
   "metadata": {},
   "outputs": [],
   "source": [
    "# Импортируем cdist - рассчет расстояния между точками, то же самое что делали выше\n",
    "from scipy.spatial.distance import cdist\n",
    "\n",
    "\n",
    "# K = количество кластеров\n",
    "\n",
    "def kmeans_custom(data, K, max_cycles=300):\n",
    "    np.random.seed(44)\n",
    "    rows = data.shape[0]\n",
    "    centers = data[np.random.choice(rows, K, replace=False)]\n",
    "    wcss = 0\n",
    "#     на всякий случай задаём 300 циклов, после которых прекращаем работу алгоритма\n",
    "    cycle = 0\n",
    "    \n",
    "#    Задаём массив, в котором будет храниться принадлежность каждой точки к кластеру\n",
    "    closest = np.zeros(rows).astype(int)\n",
    "    \n",
    "    \n",
    "    while True:\n",
    "        #   Сохраним предыдущие значения, они нам нужны для определения точки выхода из цикла\n",
    "        old_closest = closest.copy()\n",
    "        \n",
    "        # Определение расстояния между точками и центром\n",
    "        distances = cdist(data, centers)\n",
    "        \n",
    "        # Через эту функцию можно найти, к какому из кластеров ближе точка\n",
    "        closest = np.argmin(distances, axis=1)\n",
    "\n",
    "#         для каждого кластера обновляем центр\n",
    "        for i in range(K):\n",
    "            centers[i, :] = data[closest == i].mean(axis=0)\n",
    "\n",
    "#        выходим из цикла, если точки перестали менять принадлежность к кластерам. Иными словами, как только изменения перестали происходить\n",
    "        if all(closest == old_closest) or cycle == max_cycles:\n",
    "#             Считаем WCSS - Within Cluster Sum of Squares. Пригодится для построения графика \"локтя\" в дальнейшем\n",
    "            for i in range(K): \n",
    "                center_distances = np.min(cdist(data, centers), axis=1)\n",
    "                wcss += sum(center_distances ** 2)\n",
    "            wcss /=K\n",
    "                \n",
    "            break\n",
    "            \n",
    "        cycle+=1\n",
    "            \n",
    "    return closest, centers, wcss"
   ]
  },
  {
   "cell_type": "code",
   "execution_count": 12,
   "metadata": {},
   "outputs": [
    {
     "data": {
      "text/plain": [
       "<matplotlib.collections.PathCollection at 0x2815e358c70>"
      ]
     },
     "execution_count": 12,
     "metadata": {},
     "output_type": "execute_result"
    },
    {
     "data": {
      "image/png": "[encoded data removed]",
      "text/plain": [
       "<Figure size 800x400 with 1 Axes>"
      ]
     },
     "metadata": {
      "needs_background": "light"
     },
     "output_type": "display_data"
    }
   ],
   "source": [
    "close, cent, wcss = kmeans_custom(test_data, K = 2)\n",
    "\n",
    "plot.figure(figsize=(10, 5), dpi=80)\n",
    "plot.scatter(test_data[:,0], test_data[:,1], c=close)\n",
    "plot.scatter(cent[:,0], cent[:,1], color='red')"
   ]
  },
  {
   "cell_type": "markdown",
   "metadata": {},
   "source": [
    "# А теперь сравним алгоритм с тем, что из коробки нам даёт sklearn"
   ]
  },
  {
   "cell_type": "code",
   "execution_count": 13,
   "metadata": {},
   "outputs": [
    {
     "name": "stdout",
     "output_type": "stream",
     "text": [
      "sklearn KMeans:  [0 1 1 1 1 0 0 1 0 0 0 0 1 1 1 1 0 1 0 0 0 1 1 0 1 1 0 0 0 0 1 0 1 0 0 0 0\n",
      " 1 1 0 0 1 1 1 0 0 1 0 1 0 0 1 0 0 1 0 1 0 1 1 1 1 0 1 0 1 1 0 1 0 0 1 1 1\n",
      " 0 0 1 1 0 1 0 0 0 0 0 1 1 1 0 1 0 0 1 1 1 0 0 1 1 1]\n",
      "Custom KMeans:   [1 0 0 0 0 1 1 0 1 1 1 1 0 0 0 0 1 0 1 1 1 0 0 1 0 0 1 1 1 1 0 1 0 1 1 1 1\n",
      " 0 0 1 1 0 0 0 1 1 0 1 0 1 1 0 1 1 0 1 0 1 0 0 0 0 1 0 1 0 0 1 0 1 1 0 0 0\n",
      " 1 1 0 0 1 0 1 1 1 1 1 0 0 0 1 0 1 1 0 0 0 1 1 0 0 0]\n",
      "True KMeans:   [1 0 0 0 0 1 1 0 1 1 1 1 0 0 0 0 1 0 1 1 1 0 0 1 0 0 1 1 1 1 0 1 0 1 1 1 1\n",
      " 0 0 1 1 0 0 0 1 1 0 1 0 1 1 0 1 1 0 1 0 1 0 0 0 0 1 0 1 0 0 1 0 1 1 0 0 0\n",
      " 1 1 0 0 1 0 1 1 1 1 1 0 0 0 1 0 1 1 0 0 0 1 1 0 0 0]\n"
     ]
    }
   ],
   "source": [
    "from sklearn.cluster import KMeans\n",
    "import warnings\n",
    "warnings.filterwarnings(\"ignore\")\n",
    "\n",
    "kmeans_sklearn = KMeans(n_clusters=2, random_state=44) \n",
    "\n",
    "kmeans_sklearn.fit(test_data)\n",
    "label = kmeans_sklearn.fit_predict(test_data)\n",
    " \n",
    "print(\"sklearn KMeans: \", label)\n",
    "print(\"Custom KMeans:  \", close)\n",
    "print(\"True KMeans:  \", true_clusters)"
   ]
  },
  {
   "cell_type": "markdown",
   "metadata": {},
   "source": [
    "Великолепно! Истинные кластеры при генерации данных, наш самописный k-means и коробочный дают одни и те же ответы (в случае с коробочным\n",
    "нули вместо единиц, но это не имеет значения)"
   ]
  },
  {
   "cell_type": "markdown",
   "metadata": {},
   "source": [
    "# Выбор количества кластеров\n",
    "Сколько кластеров нам нужно? Elbow (метод локтя) поможет нам в этом.\n",
    "Суть такова - Построим алгоритмы с различным числом кластеров, для каждой итерации сложим расстояние между центрами кластеров и принадлежащими им точками (WCSS).  Построим график, и на моменте, когда виден \"перелом\" - то есть резкое уменьшение wcss - это и будет оптимальным количеством кластеров.\n",
    "Для эксперимента сгенерируем еще один датасет, с числом кластеров побольше"
   ]
  },
  {
   "cell_type": "code",
   "execution_count": 14,
   "metadata": {
    "scrolled": false
   },
   "outputs": [
    {
     "data": {
      "image/png": "[encoded data removed]",
      "text/plain": [
       "<Figure size 800x400 with 1 Axes>"
      ]
     },
     "metadata": {
      "needs_background": "light"
     },
     "output_type": "display_data"
    }
   ],
   "source": [
    "elbow_data, _ = make_blobs(n_samples = 100,\n",
    "                  n_features = 2, \n",
    "                  centers = 4,\n",
    "                  cluster_std = 0.7,\n",
    "                  random_state=43,\n",
    "                  shuffle = True)\n",
    "\n",
    "plot.figure(figsize=(10, 5), dpi=80)\n",
    "plot.scatter(elbow_data[:,0], elbow_data[:,1])\n",
    "plot.show()"
   ]
  },
  {
   "cell_type": "code",
   "execution_count": 15,
   "metadata": {},
   "outputs": [
    {
     "data": {
      "image/png": "[encoded data removed]",
      "text/plain": [
       "<Figure size 720x360 with 1 Axes>"
      ]
     },
     "metadata": {
      "needs_background": "light"
     },
     "output_type": "display_data"
    }
   ],
   "source": [
    "import seaborn as sns\n",
    "# сохраняем wcss для каждой итерации. Для проверки параллельно обучим k-means из коробки\n",
    "wcss_sclearn = []\n",
    "wcss_custom = []\n",
    "\n",
    "for i in range(1, 11):\n",
    "    \n",
    "    # коробочный k-means для сравнения\n",
    "    kmeans_sclearn = KMeans(n_clusters = i, init = 'k-means++', random_state = 42)\n",
    "    kmeans_sclearn.fit(elbow_data)\n",
    "    \n",
    "    _,_, wcss_cust = kmeans_custom(elbow_data, i)\n",
    "    \n",
    "    # inertia возвращает wcss\n",
    "    wcss_sclearn.append(kmeans_sclearn.inertia_)\n",
    "    wcss_custom.append(wcss_cust)\n",
    "\n",
    "plot.figure(figsize=(10,5))\n",
    "sns.lineplot(range(1, 11), wcss_sclearn,marker='o',color='green')\n",
    "\n",
    "plot.title('The Elbow Method')\n",
    "plot.xlabel('Number of clusters')\n",
    "plot.ylabel('WCSS')\n",
    "plot.show()"
   ]
  },
  {
   "cell_type": "code",
   "execution_count": 16,
   "metadata": {},
   "outputs": [
    {
     "data": {
      "image/png": "[encoded data removed]",
      "text/plain": [
       "<Figure size 720x360 with 1 Axes>"
      ]
     },
     "metadata": {
      "needs_background": "light"
     },
     "output_type": "display_data"
    }
   ],
   "source": [
    "plot.figure(figsize=(10,5))\n",
    "sns.lineplot(range(1, 11), wcss_custom,marker='o',color='blue')\n",
    "\n",
    "plot.title('The Elbow Method')\n",
    "plot.xlabel('Number of clusters')\n",
    "plot.ylabel('WCSS')\n",
    "plot.show()"
   ]
  },
  {
   "cell_type": "markdown",
   "metadata": {},
   "source": [
    "Как видим, график нашего алгоритма идеально совпадает с коробочным, значит мы всё сделали верно."
   ]
  }
 ],
 "metadata": {
  "kernelspec": {
   "display_name": "Python 3",
   "language": "python",
   "name": "python3"
  },
  "language_info": {
   "codemirror_mode": {
    "name": "ipython",
    "version": 3
   },
   "file_extension": ".py",
   "mimetype": "text/x-python",
   "name": "python",
   "nbconvert_exporter": "python",
   "pygments_lexer": "ipython3",
   "version": "3.8.5"
  }
 },
 "nbformat": 4,
 "nbformat_minor": 4
}
