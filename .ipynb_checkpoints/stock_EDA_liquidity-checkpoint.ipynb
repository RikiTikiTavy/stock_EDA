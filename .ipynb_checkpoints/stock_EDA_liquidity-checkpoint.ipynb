{
 "cells": [
  {
   "cell_type": "code",
   "execution_count": 1,
   "metadata": {},
   "outputs": [],
   "source": [
    "import pandas as pd\n",
    "import glob, os\n",
    "pd.set_option('float_format', '{:f}'.format)\n",
    "\n",
    "dateparse = lambda x: pd.datetime.strptime(x, '%Y%m%d')\n",
    "\n",
    "pd.options.display.max_columns = 999\n",
    "pd.options.display.max_rows = 100\n",
    "\n",
    "from IPython.core.display import display, HTML\n",
    "display(HTML(\"<style>.container { width:80% !important; }</style>\"))"
   ]
  },
  {
   "cell_type": "code",
   "execution_count": null,
   "metadata": {},
   "outputs": [],
   "source": [
    "stock_df = pd.read_csv('C:/Users/parsh/Desktop/Exchange/data/stock_database.csv', index_col = ['Date'],  parse_dates=True)"
   ]
  },
  {
   "cell_type": "code",
   "execution_count": null,
   "metadata": {},
   "outputs": [],
   "source": [
    "concatenated_df['Liquidity'] = concatenated_df['Volume'] * concatenated_df['Close']\n",
    "\n",
    "liq = concatenated_df.groupby([concatenated_df.index.year, concatenated_df.index.month])['Liquidity'].agg('mean')\n",
    "\n",
    "liq.plot(use_index=True, figsize=(12,10))\n",
    "\n",
    "\n",
    "def plot_liquidity_plot(threshold):\n",
    "    liq_thresh = concatenated_df[concatenated_df['Liquidity'] < threshold]\n",
    "    \n",
    "    liq_group = liq_thresh.groupby([liq_thresh.index.year, liq_thresh.index.month])['Liquidity'].agg('mean')\n",
    "    liq_group.plot(use_index=True, figsize=(12,10))\n",
    "    \n",
    "    \n",
    "plot_liquidity_plot(threshold=1000000.)\n",
    "\n",
    "\n",
    "concatenated_gr = concatenated_df.groupby([concatenated_df.index.year, concatenated_df.index.month])['Liquidity']"
   ]
  }
 ],
 "metadata": {
  "kernelspec": {
   "display_name": "Python 3",
   "language": "python",
   "name": "python3"
  },
  "language_info": {
   "codemirror_mode": {
    "name": "ipython",
    "version": 3
   },
   "file_extension": ".py",
   "mimetype": "text/x-python",
   "name": "python",
   "nbconvert_exporter": "python",
   "pygments_lexer": "ipython3",
   "version": "3.6.7"
  }
 },
 "nbformat": 4,
 "nbformat_minor": 2
}
